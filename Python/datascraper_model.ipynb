{
 "cells": [
  {
   "cell_type": "markdown",
   "id": "e72926a7-53ba-4386-8ff3-267ff44fc695",
   "metadata": {},
   "source": [
    "## Scraping i przygotowanie danych"
   ]
  },
  {
   "cell_type": "code",
   "execution_count": 1,
   "id": "cf04607d-bf12-4939-bb99-6c4e77fe9b3b",
   "metadata": {},
   "outputs": [],
   "source": [
    "from bs4 import BeautifulSoup\n",
    "import requests\n",
    "import isbnlib"
   ]
  },
  {
   "cell_type": "code",
   "execution_count": 76,
   "id": "7b17171e-184a-44fc-b199-53c21ff31707",
   "metadata": {},
   "outputs": [],
   "source": [
    "URL = \"https://wolnelektury.pl/katalog/\"\n",
    "baseURL = \"https://wolnelektury.pl/\"\n",
    "page = requests.get(URL)"
   ]
  },
  {
   "cell_type": "code",
   "execution_count": 77,
   "id": "9763065e-cef9-4af2-96ae-a56653e8c5a1",
   "metadata": {},
   "outputs": [],
   "source": [
    "soup = BeautifulSoup(page.content, 'html.parser')"
   ]
  },
  {
   "cell_type": "code",
   "execution_count": 78,
   "id": "d81d3dd4-943d-4400-9114-0b48d560e7bd",
   "metadata": {},
   "outputs": [],
   "source": [
    "catalog = soup.find('div', class_='plain-list-container')"
   ]
  },
  {
   "cell_type": "code",
   "execution_count": 79,
   "id": "eca0fc51-1e10-4983-a28b-0aa4a372a7dc",
   "metadata": {},
   "outputs": [],
   "source": [
    "book_links = catalog.find_all('a')"
   ]
  },
  {
   "cell_type": "code",
   "execution_count": 80,
   "id": "b89075df-ecb0-43a7-8080-877fe6c58506",
   "metadata": {},
   "outputs": [
    {
     "data": {
      "text/plain": [
       "'/katalog/lektura/jego-zasady/'"
      ]
     },
     "execution_count": 80,
     "metadata": {},
     "output_type": "execute_result"
    }
   ],
   "source": [
    "book_links[0]['href']"
   ]
  },
  {
   "cell_type": "code",
   "execution_count": 83,
   "id": "a09daec7-bf6d-4552-95af-51fa8e5c1063",
   "metadata": {},
   "outputs": [],
   "source": [
    "links = []\n",
    "for book_link in book_links:\n",
    "    link_url = baseURL + book_link['href'][1:]\n",
    "    links.append(link_url)"
   ]
  },
  {
   "cell_type": "code",
   "execution_count": 84,
   "id": "16fdadbf-36ff-4ce5-af6f-c06c91d8c4ac",
   "metadata": {},
   "outputs": [
    {
     "data": {
      "text/plain": [
       "'https://wolnelektury.pl/katalog/lektura/jego-zasady/'"
      ]
     },
     "execution_count": 84,
     "metadata": {},
     "output_type": "execute_result"
    }
   ],
   "source": [
    "links[0]"
   ]
  },
  {
   "cell_type": "code",
   "execution_count": 85,
   "id": "4536d124-15fd-44bd-ade7-ce89297dd792",
   "metadata": {},
   "outputs": [],
   "source": [
    "subURL = links[0]\n",
    "subpage = requests.get(subURL)\n",
    "soup = BeautifulSoup(subpage.content, 'html.parser')"
   ]
  },
  {
   "cell_type": "code",
   "execution_count": 102,
   "id": "329f3531-ebdc-4099-aaff-667f19786ebf",
   "metadata": {},
   "outputs": [],
   "source": [
    "author = soup.find(class_='author').text.strip()\n",
    "title = soup.find(class_='title').text.strip()\n",
    "isbn = isbnlib.isbn_from_words(title)\n",
    "link = baseURL + soup.find('a', string='PDF')['href'][1:]\n",
    "tags_raw = soup.find_all(class_='book-box-tag')\n",
    "tags = []\n",
    "for tag in tags_raw:\n",
    "    tags.append(tag.text.strip())"
   ]
  },
  {
   "cell_type": "code",
   "execution_count": 106,
   "id": "1e273f99-07f7-461d-a92f-5d0505e27584",
   "metadata": {},
   "outputs": [],
   "source": [
    "if isbn == '':\n",
    "    isbn = 0"
   ]
  },
  {
   "cell_type": "code",
   "execution_count": 107,
   "id": "fd1f2e6e-ddb2-4c36-94ce-11bb63d94954",
   "metadata": {},
   "outputs": [
    {
     "name": "stdout",
     "output_type": "stream",
     "text": [
      "Adolf Abrahamowicz \n",
      " Jego zasady \n",
      " 0 \n",
      " ['Pozytywizm', 'Dramat', 'Komedia'] \n",
      " https://wolnelektury.pl/media/book/pdf/jego-zasady.pdf\n"
     ]
    }
   ],
   "source": [
    "print(author, '\\n', title, '\\n', isbn, '\\n', tags, '\\n', link)"
   ]
  },
  {
   "cell_type": "code",
   "execution_count": 123,
   "id": "755ba116-6544-4614-9dd0-940010252852",
   "metadata": {},
   "outputs": [],
   "source": [
    "books = []"
   ]
  },
  {
   "cell_type": "code",
   "execution_count": 124,
   "id": "8c443068-7179-4cac-85d6-a1ee7a8786cf",
   "metadata": {},
   "outputs": [],
   "source": [
    "for link in links:\n",
    "    subURL = link\n",
    "    subpage = requests.get(subURL)\n",
    "    soup = BeautifulSoup(subpage.content, 'html.parser')\n",
    "    pdf_link = soup.find('a', string='PDF')\n",
    "    if pdf_link == None:\n",
    "        continue\n",
    "    pdf_link = baseURL + pdf_link['href'][1:]\n",
    "    author = soup.find(class_='author').text.strip()\n",
    "    title = soup.find(class_='title').text.strip()\n",
    "    isbn = isbnlib.isbn_from_words(title)\n",
    "    if isbn == '':\n",
    "        isbn = '0'\n",
    "    \n",
    "    tags_raw = soup.find_all(class_='book-box-tag')\n",
    "    tags = []\n",
    "    for tag in tags_raw:\n",
    "        tags.append(tag.text.strip())\n",
    "    books.append([title, author, isbn, set(tags), pdf_link])"
   ]
  },
  {
   "cell_type": "markdown",
   "id": "730d0ad8-8be3-437a-885b-179e7e0c5f4d",
   "metadata": {},
   "source": [
    "### Zapis pobranych danych w pliku pickle"
   ]
  },
  {
   "cell_type": "code",
   "execution_count": 3,
   "id": "f81074a9-b3fe-46e1-8f82-d5b508cc703e",
   "metadata": {},
   "outputs": [],
   "source": [
    "import pickle"
   ]
  },
  {
   "cell_type": "code",
   "execution_count": 131,
   "id": "cdee8a03-125f-42a9-9068-4540eecf41e4",
   "metadata": {},
   "outputs": [],
   "source": [
    "with open('books.pkl', 'wb') as f:\n",
    "    pickle.dump(books, f)"
   ]
  },
  {
   "cell_type": "code",
   "execution_count": 136,
   "id": "0ba932e9-d940-4cde-aabe-990a8a1ec53f",
   "metadata": {},
   "outputs": [],
   "source": [
    "with open(\"books_look.txt\", \"w\", encoding=\"utf-8\") as output:\n",
    "    output.write(str(books))"
   ]
  },
  {
   "cell_type": "code",
   "execution_count": 140,
   "id": "d3cbfc2a-e166-4e17-b5e8-c42df1edfe1b",
   "metadata": {},
   "outputs": [
    {
     "data": {
      "text/plain": [
       "2310"
      ]
     },
     "execution_count": 140,
     "metadata": {},
     "output_type": "execute_result"
    }
   ],
   "source": [
    "len(books)"
   ]
  },
  {
   "cell_type": "code",
   "execution_count": 4,
   "id": "43066706-2264-49dc-9682-70ed97c4c8c5",
   "metadata": {},
   "outputs": [],
   "source": [
    "with open('books.pkl', 'rb') as f:\n",
    "    books = pickle.load(f)"
   ]
  },
  {
   "cell_type": "code",
   "execution_count": 14,
   "id": "54244f38-862e-4117-bbf8-3d161432cf67",
   "metadata": {},
   "outputs": [],
   "source": [
    "tagset = set()"
   ]
  },
  {
   "cell_type": "code",
   "execution_count": 26,
   "id": "fc3cf0bb-837a-4250-8f8c-93ff4dcc90e9",
   "metadata": {},
   "outputs": [],
   "source": [
    "rmtag = set()\n",
    "addtag = set()\n",
    "for book in books:\n",
    "    rmtag.clear()\n",
    "    addtag.clear()\n",
    "    for tag in book[3]:\n",
    "        if ',' in tag:\n",
    "            splitlist = [x.strip() for x in tag.split(',')]\n",
    "            set(splitlist)\n",
    "            rmtag.add(tag)\n",
    "            addtag.update(splitlist)\n",
    "    for tag in rmtag:\n",
    "        book[3].remove(tag)\n",
    "    book[3].update(addtag)\n",
    "    tagset.update(book[3])\n",
    "        "
   ]
  },
  {
   "cell_type": "code",
   "execution_count": 27,
   "id": "8adbba4b-2427-4bc6-81a2-af6d0679189c",
   "metadata": {},
   "outputs": [
    {
     "data": {
      "text/plain": [
       "['Jego zasady',\n",
       " 'Adolf Abrahamowicz',\n",
       " '0',\n",
       " {'Dramat', 'Komedia', 'Pozytywizm'},\n",
       " 'https://wolnelektury.pl/media/book/pdf/jego-zasady.pdf']"
      ]
     },
     "execution_count": 27,
     "metadata": {},
     "output_type": "execute_result"
    }
   ],
   "source": [
    "books[0]"
   ]
  },
  {
   "cell_type": "code",
   "execution_count": 40,
   "id": "36373aaf-0200-48fa-8bf6-b1fe7bd82256",
   "metadata": {},
   "outputs": [],
   "source": [
    "for book in books:\n",
    "    book[3].discard('')\n",
    "    book[3].discard('nie dotyczy')"
   ]
  },
  {
   "cell_type": "code",
   "execution_count": 41,
   "id": "3c14e4ee-0b3a-46a6-b37b-517224b6ff73",
   "metadata": {},
   "outputs": [],
   "source": [
    "tagset.discard('')\n",
    "tagset.discard('nie dotyczy')"
   ]
  },
  {
   "cell_type": "code",
   "execution_count": 44,
   "id": "d586131a-753b-48e6-8a1c-e8b5b1f1e577",
   "metadata": {},
   "outputs": [],
   "source": [
    "InsertTags = ''\n",
    "for tag in tagset:\n",
    "    InsertTags += \"INSERT INTO tags (Tag) VALUES ('{}');\\n\".format(tag)"
   ]
  },
  {
   "cell_type": "code",
   "execution_count": null,
   "id": "dc6b0e60-9c02-4017-8b1e-aac2e123183d",
   "metadata": {},
   "outputs": [],
   "source": [
    "authorset = set()"
   ]
  },
  {
   "cell_type": "code",
   "execution_count": 47,
   "id": "0232fb6d-8cf1-4b64-8203-01feabbf6084",
   "metadata": {},
   "outputs": [
    {
     "data": {
      "text/plain": [
       "['Jego zasady',\n",
       " 'Adolf Abrahamowicz',\n",
       " '0',\n",
       " {'Dramat', 'Komedia', 'Pozytywizm'},\n",
       " 'https://wolnelektury.pl/media/book/pdf/jego-zasady.pdf']"
      ]
     },
     "execution_count": 47,
     "metadata": {},
     "output_type": "execute_result"
    }
   ],
   "source": [
    "books[0]"
   ]
  },
  {
   "cell_type": "code",
   "execution_count": 59,
   "id": "aa7ea08f-0392-4e09-a04c-244d1437d742",
   "metadata": {},
   "outputs": [],
   "source": [
    "authorset.clear()\n",
    "for book in books:\n",
    "    authorset.add(book[1])"
   ]
  },
  {
   "cell_type": "code",
   "execution_count": 61,
   "id": "629bbb56-3759-4427-8e47-f67d43bf448d",
   "metadata": {},
   "outputs": [],
   "source": [
    "authcorrect = set()\n",
    "for author in authorset:\n",
    "    if '\\n' in author:\n",
    "        authcorrect.add(author)"
   ]
  },
  {
   "cell_type": "code",
   "execution_count": 62,
   "id": "fad4d5fc-5ac6-4881-a26c-1bb409872e33",
   "metadata": {},
   "outputs": [
    {
     "data": {
      "text/plain": [
       "set()"
      ]
     },
     "execution_count": 62,
     "metadata": {},
     "output_type": "execute_result"
    }
   ],
   "source": [
    "authcorrect"
   ]
  },
  {
   "cell_type": "code",
   "execution_count": 58,
   "id": "7dfd0b16-5e4b-49b8-a2da-8a90ae69fdd7",
   "metadata": {},
   "outputs": [],
   "source": [
    "for book in books:\n",
    "    if book[1] in authcorrect:\n",
    "        books.remove(book)\n",
    "    "
   ]
  },
  {
   "cell_type": "code",
   "execution_count": 64,
   "id": "bf9ad5ab-dc15-4989-b82b-66f642335dc2",
   "metadata": {},
   "outputs": [],
   "source": [
    "InsertAuthors = ''\n",
    "for author in authorset:\n",
    "    InsertAuthors += \"INSERT INTO authors (Author) VALUES ('{}');\\n\".format(author)"
   ]
  },
  {
   "cell_type": "code",
   "execution_count": 66,
   "id": "4e062a58-c160-473a-8465-f206cf17ab8f",
   "metadata": {},
   "outputs": [
    {
     "data": {
      "text/plain": [
       "['Jego zasady',\n",
       " 'Adolf Abrahamowicz',\n",
       " '0',\n",
       " {'Dramat', 'Komedia', 'Pozytywizm'},\n",
       " 'https://wolnelektury.pl/media/book/pdf/jego-zasady.pdf']"
      ]
     },
     "execution_count": 66,
     "metadata": {},
     "output_type": "execute_result"
    }
   ],
   "source": [
    "books[0]"
   ]
  },
  {
   "cell_type": "code",
   "execution_count": 69,
   "id": "0173d25a-c753-4720-a6e2-d5ed46ba9159",
   "metadata": {},
   "outputs": [],
   "source": [
    "with open(\"InsertTags.txt\", \"w\", encoding=\"utf-8\") as output:\n",
    "    output.write(str(InsertTags))\n",
    "with open(\"InsertAuthors.txt\", \"w\", encoding=\"utf-8\") as output:\n",
    "    output.write(str(InsertAuthors))\n"
   ]
  },
  {
   "cell_type": "code",
   "execution_count": 70,
   "id": "39163bff-8ad0-4fef-9531-33bdce30c25f",
   "metadata": {},
   "outputs": [],
   "source": [
    "with open('books_cleaned_1.pkl', 'wb') as f:\n",
    "    pickle.dump(books, f)"
   ]
  },
  {
   "cell_type": "code",
   "execution_count": 71,
   "id": "4448b585-bc1a-433f-be30-8309212e40af",
   "metadata": {},
   "outputs": [],
   "source": [
    "bookId = 1\n",
    "for book in books:\n",
    "    book.append(bookId)\n",
    "    bookId += 1"
   ]
  },
  {
   "cell_type": "code",
   "execution_count": 72,
   "id": "83100930-12ea-4d61-886d-d11e564a50ab",
   "metadata": {},
   "outputs": [
    {
     "data": {
      "text/plain": [
       "['Jego zasady',\n",
       " 'Adolf Abrahamowicz',\n",
       " '0',\n",
       " {'Dramat', 'Komedia', 'Pozytywizm'},\n",
       " 'https://wolnelektury.pl/media/book/pdf/jego-zasady.pdf',\n",
       " 1]"
      ]
     },
     "execution_count": 72,
     "metadata": {},
     "output_type": "execute_result"
    }
   ],
   "source": [
    "books[0]"
   ]
  },
  {
   "cell_type": "code",
   "execution_count": 79,
   "id": "ad1daa53-4ea1-4bfb-9638-6f6306fa5a50",
   "metadata": {},
   "outputs": [],
   "source": [
    "tagId = 1\n",
    "tags = []\n",
    "for tag in tagset:\n",
    "    tags.append([tag, tagId])\n",
    "    tagId += 1"
   ]
  },
  {
   "cell_type": "code",
   "execution_count": 81,
   "id": "c379bf83-528b-4602-a2ac-f9f72919fd91",
   "metadata": {},
   "outputs": [],
   "source": [
    "authorId = 1\n",
    "authors = []\n",
    "for author in authorset:\n",
    "    authors.append([author, authorId])\n",
    "    authorId += 1    "
   ]
  },
  {
   "cell_type": "code",
   "execution_count": 84,
   "id": "aa0aa1aa-3479-4ef8-81a3-cfb759f6b03f",
   "metadata": {},
   "outputs": [],
   "source": [
    "AuthorBook = []\n",
    "TagBook = []"
   ]
  },
  {
   "cell_type": "code",
   "execution_count": 85,
   "id": "81245020-7d39-4d64-a58b-f431eb6b4e59",
   "metadata": {},
   "outputs": [],
   "source": [
    "with open('books_indexed_no_relation.pkl', 'wb') as f:\n",
    "    pickle.dump(books, f)\n",
    "with open('tags_indexed_no_relation.pkl', 'wb') as f:\n",
    "    pickle.dump(tags, f)\n",
    "with open('authors_indexed_no_relation.pkl', 'wb') as f:\n",
    "    pickle.dump(authors, f)"
   ]
  },
  {
   "cell_type": "code",
   "execution_count": 44,
   "id": "5d69a9e6-f8c5-42b5-8b0a-59629d32db06",
   "metadata": {},
   "outputs": [],
   "source": [
    "import pickle\n",
    "with open('tags_indexed_no_relation.pkl', 'rb') as f:\n",
    "    tags = pickle.load(f)\n",
    "with open('authors_indexed_no_relation.pkl', 'rb') as f:\n",
    "    authors = pickle.load(f)"
   ]
  },
  {
   "cell_type": "code",
   "execution_count": 90,
   "id": "c418a022-808d-44a4-b2d4-9e90812d3998",
   "metadata": {},
   "outputs": [],
   "source": [
    "for tag in tags:\n",
    "    for book in books:\n",
    "        if tag[0] in book[3]:\n",
    "            TagBook.append([tag[1], book[5]])"
   ]
  },
  {
   "cell_type": "code",
   "execution_count": 94,
   "id": "a22e89dd-11ce-40b0-a1f7-340cd2081b81",
   "metadata": {},
   "outputs": [
    {
     "name": "stdout",
     "output_type": "stream",
     "text": [
      "{'Proza poetycka', 'Dwudziestolecie międzywojenne', 'Nowela', 'Felieton', 'Epika', 'Dramat współczesny', 'Pogadanka'} ['Proza poetycka', 1]\n"
     ]
    }
   ],
   "source": [
    "print(books[833][3], tags[0])"
   ]
  },
  {
   "cell_type": "code",
   "execution_count": 95,
   "id": "aa05d91c-f1cb-4285-a606-344c74aaece1",
   "metadata": {},
   "outputs": [],
   "source": [
    "for author in authors:\n",
    "    for book in books:\n",
    "        if author[0] in book[1]:\n",
    "            AuthorBook.append([author[1], book[5]])"
   ]
  },
  {
   "cell_type": "code",
   "execution_count": 96,
   "id": "22c41df4-10d2-439d-bf86-1bf42cebc29b",
   "metadata": {},
   "outputs": [
    {
     "data": {
      "text/plain": [
       "[2, 252]"
      ]
     },
     "execution_count": 96,
     "metadata": {},
     "output_type": "execute_result"
    }
   ],
   "source": [
    "AuthorBook[20]"
   ]
  },
  {
   "cell_type": "code",
   "execution_count": 97,
   "id": "00778438-ab29-40ed-ad17-5ece05ee74f6",
   "metadata": {},
   "outputs": [
    {
     "name": "stdout",
     "output_type": "stream",
     "text": [
      "['Tadeusz Boy-Żeleński', 2] Tadeusz Boy-Żeleński\n"
     ]
    }
   ],
   "source": [
    "print(authors[1], books[251][1])"
   ]
  },
  {
   "cell_type": "code",
   "execution_count": 45,
   "id": "0de64d15-4aeb-49ba-9699-fda1ba6203f8",
   "metadata": {},
   "outputs": [],
   "source": [
    "InsertTags = ''\n",
    "for tag in tags:\n",
    "    InsertTags += \"INSERT INTO tags (TagId, Tag) VALUES ({},'{}');\\n\".format(tag[1], tag[0].replace(\"'\",\"''\"))"
   ]
  },
  {
   "cell_type": "code",
   "execution_count": 46,
   "id": "20dfbba7-067e-4a87-91c7-67b1afebcdd4",
   "metadata": {},
   "outputs": [],
   "source": [
    "InsertAuthors = ''\n",
    "for author in authors:\n",
    "    InsertAuthors += \"INSERT INTO authors (AuthorId, Author) VALUES ({},'{}');\\n\".format(author[1], author[0].replace(\"'\",\"''\"))"
   ]
  },
  {
   "cell_type": "code",
   "execution_count": 47,
   "id": "9643475b-8b43-4b22-941c-0dcba7800cee",
   "metadata": {},
   "outputs": [],
   "source": [
    "with open(\"InsertTags1.txt\", \"w\", encoding=\"utf-8\") as output:\n",
    "    output.write(str(InsertTags))\n",
    "with open(\"InsertAuthors1.txt\", \"w\", encoding=\"utf-8\") as output:\n",
    "    output.write(str(InsertAuthors))"
   ]
  },
  {
   "cell_type": "code",
   "execution_count": 105,
   "id": "f4d8ec3f-6db8-4611-8a22-fad07a4d2a9a",
   "metadata": {},
   "outputs": [
    {
     "data": {
      "text/plain": [
       "['Jego zasady',\n",
       " 'Adolf Abrahamowicz',\n",
       " '0',\n",
       " {'Dramat', 'Komedia', 'Pozytywizm'},\n",
       " 'https://wolnelektury.pl/media/book/pdf/jego-zasady.pdf',\n",
       " 1]"
      ]
     },
     "execution_count": 105,
     "metadata": {},
     "output_type": "execute_result"
    }
   ],
   "source": [
    "books[0]"
   ]
  },
  {
   "cell_type": "code",
   "execution_count": 106,
   "id": "b38be383-cb74-423a-96b4-04f740fb6c09",
   "metadata": {},
   "outputs": [],
   "source": [
    "InsertBooks = ''\n",
    "for book in books:\n",
    "    InsertBooks += \"INSERT INTO books (BookId, Title, ISBN, URL) VALUES ({},'{}','{}','{}');\\n\".format(book[5], book[0], book[2], book[4])"
   ]
  },
  {
   "cell_type": "code",
   "execution_count": 108,
   "id": "b1c8c85e-f118-4a6b-be51-429a80d33d46",
   "metadata": {},
   "outputs": [
    {
     "name": "stdout",
     "output_type": "stream",
     "text": [
      "INSERT INTO books (BookId, Title, ISBN, URL) VALUES (1,'Jego zasady','0','https://wolnelektury.pl/media/book/pdf/jego-zasady.pdf');\n",
      "INSERT INTO books (BookId, Title, ISBN, URL) VALUES (2,'Po burzy','9788364980978','https://wolnelektury.pl/media/book/pdf/po-burzy.pdf');\n",
      "INSERT INTO books (BookId, Title, ISBN, URL) VALUES (3,'Oresteja','9788328853553','https://wolnelektury.pl/media/book/pdf/ajschylos-oresteja.pdf');\n",
      "INSERT INTO books (BookId, Title, ISBN, URL) VALUES (4,'Prometeusz skowany','9788366837201','https://wolnelektury.pl/media/book/pdf/ajschylos-prometeusz-skowany.pdf');\n",
      "INSERT INTO books (BookId, Title, ISBN, URL) VALUES (5,'Małe kobietki','9788377795712','https://wolnelektury.pl/media/book/pdf/alcott-male-kobietki.pdf');\n",
      "INSERT INTO books (BookId, Title, ISBN, URL) VALUES (6,'Boska Komedia','9788361060901','https://wolnelektury.pl/media/book/pdf/boska-komedia.pdf');\n",
      "INSERT INTO books (BookId, Title, ISBN, URL) VALUES (7,'Serce','9788374851480','https://wolnelektury.pl/media/book/pdf/amicis-serce.pdf');\n",
      "INSERT INTO books (BookId, Title, ISBN, URL) VALUES (8,'Marsz strzelców','9788328529687','https://wolnelektury.pl/media/book/pdf/marsz-strzelcow.pdf');\n",
      "INSERT INTO books (B\n"
     ]
    }
   ],
   "source": [
    "print(InsertBooks[0:1200])"
   ]
  },
  {
   "cell_type": "code",
   "execution_count": 111,
   "id": "775d8b68-8933-478d-8be8-a4aab60ad7ae",
   "metadata": {},
   "outputs": [],
   "source": [
    "InsertTagBook = ''\n",
    "for tagbook in TagBook:\n",
    "    InsertTagBook += \"INSERT INTO tagbook (TagId, BookId) VALUES ({},{});\\n\".format(tagbook[0], tagbook[1])"
   ]
  },
  {
   "cell_type": "code",
   "execution_count": 112,
   "id": "84126b0e-2a3d-40b7-bb4e-fafeb53ffcac",
   "metadata": {},
   "outputs": [
    {
     "name": "stdout",
     "output_type": "stream",
     "text": [
      "INSERT INTO tagbook (TagId, BookId) VALUES (1,833);\n",
      "INSERT INTO tagbook (TagId, BookId) VALUES (1,834);\n",
      "INSERT INTO tagbook (TagId, BookId) VALUES (2,1923);\n",
      "INSERT INTO tagbook (TagId, BookId) VALUES \n"
     ]
    }
   ],
   "source": [
    "print(InsertTagBook[0:200])"
   ]
  },
  {
   "cell_type": "code",
   "execution_count": 114,
   "id": "a4fff212-a41a-4191-aaf0-574fb1f2f25f",
   "metadata": {},
   "outputs": [],
   "source": [
    "InsertAuthorBook = ''\n",
    "for authorbook in AuthorBook:\n",
    "    InsertAuthorBook += \"INSERT INTO authorbook (AuthorId, BookId) VALUES ({},{});\\n\".format(authorbook[0], authorbook[1])"
   ]
  },
  {
   "cell_type": "code",
   "execution_count": 115,
   "id": "904f6cc5-2eae-4072-8594-56ff33d15627",
   "metadata": {},
   "outputs": [
    {
     "name": "stdout",
     "output_type": "stream",
     "text": [
      "INSERT INTO authorbook (AuthorId, BookId) VALUES (1,193);\n",
      "INSERT INTO authorbook (AuthorId, BookId) VALUES (1,194);\n",
      "INSERT INTO authorbook (AuthorId, BookId) VALUES (2,234);\n",
      "INSERT INTO authorbook (Au\n"
     ]
    }
   ],
   "source": [
    "print(InsertAuthorBook[0:200])"
   ]
  },
  {
   "cell_type": "code",
   "execution_count": 49,
   "id": "96567ceb-033c-425a-bd3c-992b92af4fae",
   "metadata": {},
   "outputs": [
    {
     "name": "stdout",
     "output_type": "stream",
     "text": [
      "123\n"
     ]
    }
   ],
   "source": [
    "maxtitle = 0\n",
    "for book in books:\n",
    "    if len(book[4]) > maxtitle:\n",
    "        maxtitle = len(book[4])\n",
    "print(maxtitle)"
   ]
  },
  {
   "cell_type": "code",
   "execution_count": 48,
   "id": "c93f45cf-2dcd-4f17-941b-76bb0030f2f4",
   "metadata": {},
   "outputs": [
    {
     "name": "stdout",
     "output_type": "stream",
     "text": [
      "29\n"
     ]
    }
   ],
   "source": [
    "maxtitle = 0\n",
    "for tag in tags:\n",
    "    if len(tag[0]) > maxtitle:\n",
    "        maxtitle = len(tag[0])\n",
    "print(maxtitle)"
   ]
  },
  {
   "cell_type": "code",
   "execution_count": 118,
   "id": "cd67f502-55d9-4ab6-973e-fc1337c3c90c",
   "metadata": {},
   "outputs": [
    {
     "name": "stdout",
     "output_type": "stream",
     "text": [
      "58\n"
     ]
    }
   ],
   "source": [
    "maxauthor = 0\n",
    "for author in authors:\n",
    "    if len(author[0]) > maxauthor:\n",
    "        maxauthor = len(author[0])\n",
    "print(maxauthor)"
   ]
  },
  {
   "cell_type": "code",
   "execution_count": 119,
   "id": "cc816799-660b-4d19-8b45-5e587759ef04",
   "metadata": {},
   "outputs": [],
   "source": [
    "with open(\"InsertTags.txt\", \"w\", encoding=\"utf-8\") as output:\n",
    "    output.write(str(InsertTags))\n",
    "with open(\"InsertAuthors.txt\", \"w\", encoding=\"utf-8\") as output:\n",
    "    output.write(str(InsertAuthors))\n",
    "with open(\"InsertBooks.txt\", \"w\", encoding=\"utf-8\") as output:\n",
    "    output.write(str(InsertBooks))\n",
    "with open(\"InsertTagBook.txt\", \"w\", encoding=\"utf-8\") as output:\n",
    "    output.write(str(InsertTagBook))\n",
    "with open(\"InsertAuthorBook.txt\", \"w\", encoding=\"utf-8\") as output:\n",
    "    output.write(str(InsertAuthorBook))\n",
    "\n"
   ]
  },
  {
   "cell_type": "markdown",
   "id": "ed5dafe0-11a9-484b-ae85-0af13c4e4b40",
   "metadata": {},
   "source": [
    "## Uczenie, test i zapis modelu doc2vec"
   ]
  },
  {
   "cell_type": "code",
   "execution_count": 131,
   "id": "f0e67c22-78bf-46b4-92c6-ed1c3bb32b73",
   "metadata": {},
   "outputs": [],
   "source": [
    "from gensim.models.doc2vec import Doc2Vec, TaggedDocument\n",
    "from nltk.tokenize import word_tokenize"
   ]
  },
  {
   "cell_type": "code",
   "execution_count": 127,
   "id": "1017db84-31c4-4fff-a1aa-19b222c043c2",
   "metadata": {},
   "outputs": [],
   "source": [
    "data = []\n",
    "for book in books:\n",
    "    bookstr = book[1]\n",
    "    for tag in book[3]:\n",
    "        bookstr += ' ' + tag\n",
    "    data.append(bookstr)"
   ]
  },
  {
   "cell_type": "code",
   "execution_count": 128,
   "id": "23c4cf77-1790-461e-b2a9-77c55b17c4ec",
   "metadata": {},
   "outputs": [
    {
     "data": {
      "text/plain": [
       "'Adolf Abrahamowicz Pozytywizm Komedia Dramat'"
      ]
     },
     "execution_count": 128,
     "metadata": {},
     "output_type": "execute_result"
    }
   ],
   "source": [
    "data[0]"
   ]
  },
  {
   "cell_type": "code",
   "execution_count": 132,
   "id": "5a867052-bb1b-49d2-a302-fdb8c96c1f8b",
   "metadata": {},
   "outputs": [],
   "source": [
    "tagged_data = [TaggedDocument(words=word_tokenize(_d.lower()), tags=[str(i)]) for i, _d in enumerate(data)]"
   ]
  },
  {
   "cell_type": "code",
   "execution_count": 135,
   "id": "5b62bafd-f9e0-419a-a7c7-262a5e00f95f",
   "metadata": {},
   "outputs": [],
   "source": [
    "model = Doc2Vec(vector_size=3,\n",
    "                alpha=0.025, \n",
    "                min_alpha=0.00025,\n",
    "                min_count=1,\n",
    "                dm =1)\n",
    "  \n",
    "model.build_vocab(tagged_data)"
   ]
  },
  {
   "cell_type": "code",
   "execution_count": 137,
   "id": "394af28b-22df-4f13-9360-cbd8a262b116",
   "metadata": {},
   "outputs": [],
   "source": [
    "model.train(tagged_data,\n",
    "            total_examples=model.corpus_count,\n",
    "            epochs=100)\n",
    "\n",
    "model.save(\"d2v.model\")"
   ]
  },
  {
   "cell_type": "code",
   "execution_count": 138,
   "id": "43e74958-1ddf-42c1-bd74-9143db2d3822",
   "metadata": {},
   "outputs": [
    {
     "name": "stdout",
     "output_type": "stream",
     "text": [
      "V1_infer [-0.7152114  1.2028822  1.6474428]\n"
     ]
    }
   ],
   "source": [
    "test_data = word_tokenize(\"Epos rycerski Legenda\".lower())\n",
    "v1 = model.infer_vector(test_data)\n",
    "print(\"V1_infer\", v1)"
   ]
  },
  {
   "cell_type": "markdown",
   "id": "132c540f-d86d-413e-827f-b25ca2cbba0a",
   "metadata": {},
   "source": [
    "### Rozszerzenie listy książek o wektor uzyskany z przygotowanego modelu"
   ]
  },
  {
   "cell_type": "code",
   "execution_count": 144,
   "id": "a3123e25-266b-4971-bf02-6514f0dca981",
   "metadata": {},
   "outputs": [],
   "source": [
    "for book in books:\n",
    "    bookstr = book[1]\n",
    "    for tag in book[3]:\n",
    "        bookstr += ' ' + tag\n",
    "    book_tokenized = word_tokenize(bookstr.lower())\n",
    "    book_vector = model.infer_vector(book_tokenized)\n",
    "    book.append(book_vector)"
   ]
  },
  {
   "cell_type": "code",
   "execution_count": 150,
   "id": "ad3fa776-1dae-4edf-b590-5d255ba72fb0",
   "metadata": {},
   "outputs": [
    {
     "data": {
      "text/plain": [
       "['Jego zasady',\n",
       " 'Adolf Abrahamowicz',\n",
       " '0',\n",
       " {'Dramat', 'Komedia', 'Pozytywizm'},\n",
       " 'https://wolnelektury.pl/media/book/pdf/jego-zasady.pdf',\n",
       " 1,\n",
       " array([0.08220517, 0.15564835, 1.0348116 ], dtype=float32)]"
      ]
     },
     "execution_count": 150,
     "metadata": {},
     "output_type": "execute_result"
    }
   ],
   "source": [
    "books[0]"
   ]
  },
  {
   "cell_type": "code",
   "execution_count": 176,
   "id": "8716f289-30a4-4f94-8ecb-897b289ed8d7",
   "metadata": {},
   "outputs": [],
   "source": [
    "with open('books_vectors.pkl', 'wb') as f:\n",
    "    pickle.dump(books, f)"
   ]
  },
  {
   "cell_type": "code",
   "execution_count": 2,
   "id": "24ea8e32-f0e1-4a91-8303-e8ea9e9e698e",
   "metadata": {},
   "outputs": [],
   "source": [
    "import pickle\n",
    "with open('books_vectors.pkl', 'rb') as f:\n",
    "    books = pickle.load(f)"
   ]
  },
  {
   "cell_type": "code",
   "execution_count": 12,
   "id": "b92e3852-44ce-4d21-9fd5-c2705758844f",
   "metadata": {},
   "outputs": [],
   "source": [
    "import pandas as pd\n",
    "import numpy as np\n",
    "from scipy import spatial"
   ]
  },
  {
   "cell_type": "code",
   "execution_count": 26,
   "id": "967c4a4c-0432-44c6-aa49-21110564e2bf",
   "metadata": {},
   "outputs": [
    {
     "name": "stdout",
     "output_type": "stream",
     "text": [
      "0.9992067217826843\n"
     ]
    }
   ],
   "source": [
    "vect_input = [np.mean([books[0][6][0],books[50][6][0]]),np.mean([books[0][6][1],books[50][6][1]]),np.mean([books[0][6][2],books[50][6][2]])]\n",
    "maxresult = -1\n",
    "for book in books:\n",
    "    result = 1 - spatial.distance.cosine(vect_input, book[6])\n",
    "    if result > maxresult:\n",
    "        book_output = book\n",
    "        maxresult = result\n",
    "print(maxresult)"
   ]
  },
  {
   "cell_type": "code",
   "execution_count": 27,
   "id": "d1f8b94e-4512-45b1-859e-0055667c74a5",
   "metadata": {},
   "outputs": [
    {
     "data": {
      "text/plain": [
       "['Jego zasady',\n",
       " 'Adolf Abrahamowicz',\n",
       " '0',\n",
       " {'Dramat', 'Komedia', 'Pozytywizm'},\n",
       " 'https://wolnelektury.pl/media/book/pdf/jego-zasady.pdf',\n",
       " 1,\n",
       " array([0.08220517, 0.15564835, 1.0348116 ], dtype=float32)]"
      ]
     },
     "execution_count": 27,
     "metadata": {},
     "output_type": "execute_result"
    }
   ],
   "source": [
    "books[0]"
   ]
  },
  {
   "cell_type": "code",
   "execution_count": 28,
   "id": "c62c475b-9aea-4f67-9167-1b5ad8f44acd",
   "metadata": {},
   "outputs": [
    {
     "data": {
      "text/plain": [
       "['Kiejstut',\n",
       " 'Adam Asnyk',\n",
       " '9788328534124',\n",
       " {'Dramat', 'Pozytywizm', 'Tragedia'},\n",
       " 'https://wolnelektury.pl/media/book/pdf/asnyk-kiejstut.pdf',\n",
       " 51,\n",
       " array([-0.47235325, -0.2805281 ,  0.6188072 ], dtype=float32)]"
      ]
     },
     "execution_count": 28,
     "metadata": {},
     "output_type": "execute_result"
    }
   ],
   "source": [
    "books[50]"
   ]
  },
  {
   "cell_type": "code",
   "execution_count": 29,
   "id": "a0cef0a4-2914-4040-8cff-b3ba9649551e",
   "metadata": {},
   "outputs": [
    {
     "data": {
      "text/plain": [
       "['Synowie ziemi',\n",
       " 'Stanisław Przybyszewski',\n",
       " '9788328807723',\n",
       " {'Epika', 'Powieść', 'Pozytywizm'},\n",
       " 'https://wolnelektury.pl/media/book/pdf/synowie-ziemi-.pdf',\n",
       " 1712,\n",
       " array([-0.200813  , -0.07436049,  0.74203247], dtype=float32)]"
      ]
     },
     "execution_count": 29,
     "metadata": {},
     "output_type": "execute_result"
    }
   ],
   "source": [
    "book_output"
   ]
  },
  {
   "cell_type": "code",
   "execution_count": 39,
   "id": "e53d2a22-5e3f-4c67-9193-2d84249e197f",
   "metadata": {},
   "outputs": [],
   "source": [
    "InsertBooks = ''\n",
    "for book in books:\n",
    "    InsertBooks += \"INSERT INTO books (BookId, Title, ISBN, URL, X, Y, Z) VALUES ({}, '{}', '{}', '{}', {}, {}, {});\\n\".format(\n",
    "        book[5], book[0].replace(\"'\",\"''\"), book[2], book[4], book[6][0], book[6][1], book[6][2])"
   ]
  },
  {
   "cell_type": "code",
   "execution_count": 40,
   "id": "8c2edb7f-6ff7-40b8-96dd-f56d3dd43946",
   "metadata": {},
   "outputs": [
    {
     "name": "stdout",
     "output_type": "stream",
     "text": [
      "INSERT INTO books (BookId, Title, ISBN, URL, X, Y, Z) VALUES (1, 'Jego zasady', '0', 'https://wolnelektury.pl/media/book/pdf/jego-zasady.pdf', 0.08220516890287399, 0.1556483507156372, 1.0348116159439087);\n",
      "INSERT INTO books (BookId, Title, ISBN, URL, X, Y, Z) VALUES (2, 'Po burzy', '9788364980978', 'https://wolnelektury.pl/media/book/pdf/po-burzy.pdf', 0.02022506110370159, 0.16492147743701935, 0.9576689004898071);\n",
      "INSERT INTO books (BookId, Title, ISBN, URL, X, Y, Z) VALUES (3, 'Oresteja', '9788328853553', 'https://wolnelektury.pl/media/book/pdf/ajschylos-oresteja.pdf', 0.1115083247423172, 0.3541731536388397, 1.2940075397491455);\n",
      "INSERT INTO books (BookId, Title, ISBN, URL, X, Y, Z) VALUES (4, 'Prometeusz skowany', '9788366837201', 'https://wolnelektury.pl/media/book/pdf/ajschylos-prometeusz-skowany.pdf', 0.2508053183555603, 0.3743506669998169, 1.2772467136383057);\n",
      "INSERT INTO books (BookId, Title, ISBN, URL, X, Y, Z) VALUES (5, 'Małe kobietki', '9788377795712', 'https://wolnelektury.pl/media/book/pdf/alcott-male-kobietki.pdf', -0.6018539071083069, 0.09170441329479218, 1.1537178754806519);\n",
      "INSERT INTO books (BookId, Title, ISBN, URL, X, Y, Z) VALUES (6, 'Boska Komedia', '97883610609\n"
     ]
    }
   ],
   "source": [
    "print(InsertBooks[0:1200])"
   ]
  },
  {
   "cell_type": "code",
   "execution_count": 42,
   "id": "f5a5dfef-d7dc-4e84-83e6-47c6278e19d1",
   "metadata": {},
   "outputs": [],
   "source": [
    "with open(\"InsertBooks.txt\", \"w\", encoding=\"utf-8\") as output:\n",
    "    output.write(str(InsertBooks))"
   ]
  },
  {
   "cell_type": "code",
   "execution_count": 38,
   "id": "a54b2b49-2622-40e5-a2b1-f3a15085e46a",
   "metadata": {},
   "outputs": [
    {
     "data": {
      "text/plain": [
       "18"
      ]
     },
     "execution_count": 38,
     "metadata": {},
     "output_type": "execute_result"
    }
   ],
   "source": [
    "len('3.3743506669998169')"
   ]
  },
  {
   "cell_type": "code",
   "execution_count": null,
   "id": "df8aaff0-8b1c-4c1b-a9ff-3be478594df5",
   "metadata": {},
   "outputs": [],
   "source": []
  }
 ],
 "metadata": {
  "kernelspec": {
   "display_name": "Python 3 (ipykernel)",
   "language": "python",
   "name": "python3"
  },
  "language_info": {
   "codemirror_mode": {
    "name": "ipython",
    "version": 3
   },
   "file_extension": ".py",
   "mimetype": "text/x-python",
   "name": "python",
   "nbconvert_exporter": "python",
   "pygments_lexer": "ipython3",
   "version": "3.9.7"
  }
 },
 "nbformat": 4,
 "nbformat_minor": 5
}
